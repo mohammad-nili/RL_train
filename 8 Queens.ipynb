{
 "cells": [
  {
   "cell_type": "code",
   "execution_count": 1,
   "metadata": {},
   "outputs": [],
   "source": [
    "import numpy as np"
   ]
  },
  {
   "cell_type": "code",
   "execution_count": 2,
   "metadata": {},
   "outputs": [],
   "source": [
    "N = 8"
   ]
  },
  {
   "cell_type": "code",
   "execution_count": 176,
   "metadata": {},
   "outputs": [],
   "source": [
    "board_state_memory = {} # cache our result for every state of the board"
   ]
  },
  {
   "cell_type": "code",
   "execution_count": 86,
   "metadata": {},
   "outputs": [],
   "source": [
    "board = np.zeros((N,N),np.int8)"
   ]
  },
  {
   "cell_type": "code",
   "execution_count": 8,
   "metadata": {},
   "outputs": [
    {
     "data": {
      "text/plain": [
       "array([[0, 0, 0, 0, 0, 0, 0, 0],\n",
       "       [0, 0, 0, 0, 0, 0, 0, 0],\n",
       "       [0, 0, 0, 0, 0, 0, 0, 0],\n",
       "       [0, 0, 0, 0, 0, 0, 0, 0],\n",
       "       [0, 0, 0, 0, 0, 0, 0, 0],\n",
       "       [0, 0, 0, 0, 0, 0, 0, 0],\n",
       "       [0, 0, 0, 0, 0, 0, 0, 0],\n",
       "       [0, 0, 0, 0, 0, 0, 0, 0]], dtype=int8)"
      ]
     },
     "execution_count": 8,
     "metadata": {},
     "output_type": "execute_result"
    }
   ],
   "source": [
    "board #   (0 : empty ; 1: queen placed )"
   ]
  },
  {
   "cell_type": "code",
   "execution_count": 27,
   "metadata": {},
   "outputs": [],
   "source": [
    "def create_board_string(board):\n",
    "    board_string = ''\n",
    "    for i in range(N):\n",
    "        for j in range(N):\n",
    "            board_string +=str(board[i][j])\n",
    "    return board_string"
   ]
  },
  {
   "cell_type": "code",
   "execution_count": 28,
   "metadata": {},
   "outputs": [
    {
     "data": {
      "text/plain": [
       "'0000000000000000000000000000000000000000000000000000000000000000'"
      ]
     },
     "execution_count": 28,
     "metadata": {},
     "output_type": "execute_result"
    }
   ],
   "source": [
    "create_board_string(board)"
   ]
  },
  {
   "cell_type": "code",
   "execution_count": 177,
   "metadata": {},
   "outputs": [],
   "source": [
    "def is_board_safe(board):\n",
    "    board_key = create_board_string(board)\n",
    "    \n",
    "    if board_key in board_state_memory:\n",
    "        print(\"Using cached information\")\n",
    "        return board_state_memory[board_key]\n",
    "    \n",
    "    row_sum = np.sum(board,axis=1)\n",
    "    if len(row_sum[np.where(row_sum>1)])> 0:\n",
    "        board_state_memory[board_key]= False\n",
    "        return False\n",
    "    \n",
    "    col_sum = np.sum(board,axis=0)\n",
    "    if len(col_sum[np.where(col_sum>1)])> 0:\n",
    "        board_state_memory[board_key]= False\n",
    "        return False\n",
    "    \n",
    "    # get the elements from lower left to upper right diagnols\n",
    "    diags = [board[::-1,:].diagonal(i) for i in range(-board.shape[0]+1,board.shape[1])]\n",
    "    # get the elements from upper left to  lower right diagnols \n",
    "    diags.extend(board.diagonal(i) for i in range(board.shape[1]-1,-board.shape[0],-1))\n",
    "    \n",
    "    for diag in diags : \n",
    "        if np.sum(diag)>1:\n",
    "            board_state_memory[board_key]= False\n",
    "            return False\n",
    "        \n",
    "    return True"
   ]
  },
  {
   "cell_type": "markdown",
   "metadata": {},
   "source": [
    "## Test function"
   ]
  },
  {
   "cell_type": "markdown",
   "metadata": {},
   "source": [
    "#### test row"
   ]
  },
  {
   "cell_type": "code",
   "execution_count": 89,
   "metadata": {},
   "outputs": [
    {
     "name": "stdout",
     "output_type": "stream",
     "text": [
      "[[1 0 0 1 0 0 0 0]\n",
      " [0 0 0 0 0 0 0 0]\n",
      " [0 0 0 0 0 0 0 0]\n",
      " [0 0 0 0 0 0 0 0]\n",
      " [0 0 0 0 0 0 0 0]\n",
      " [0 0 0 0 0 0 0 0]\n",
      " [0 0 0 0 0 0 0 0]\n",
      " [0 0 0 0 0 0 0 0]]\n"
     ]
    },
    {
     "data": {
      "text/plain": [
       "False"
      ]
     },
     "execution_count": 89,
     "metadata": {},
     "output_type": "execute_result"
    }
   ],
   "source": [
    "board_copy = board.copy()\n",
    "board_copy[0][0] = 1\n",
    "board_copy[0][3] = 1\n",
    "\n",
    "print(board_copy)\n",
    "is_board_safe(board_copy)"
   ]
  },
  {
   "cell_type": "markdown",
   "metadata": {},
   "source": [
    "#### Test columns"
   ]
  },
  {
   "cell_type": "code",
   "execution_count": 90,
   "metadata": {},
   "outputs": [
    {
     "name": "stdout",
     "output_type": "stream",
     "text": [
      "[[1 0 0 0 0 0 0 0]\n",
      " [0 0 0 0 0 0 0 0]\n",
      " [0 0 0 0 0 0 0 0]\n",
      " [1 0 0 0 0 0 0 0]\n",
      " [0 0 0 0 0 0 0 0]\n",
      " [0 0 0 0 0 0 0 0]\n",
      " [0 0 0 0 0 0 0 0]\n",
      " [0 0 0 0 0 0 0 0]]\n"
     ]
    },
    {
     "data": {
      "text/plain": [
       "False"
      ]
     },
     "execution_count": 90,
     "metadata": {},
     "output_type": "execute_result"
    }
   ],
   "source": [
    "board_copy = board.copy()\n",
    "board_copy[0][0] = 1\n",
    "board_copy[3][0] = 1\n",
    "\n",
    "print(board_copy)\n",
    "is_board_safe(board_copy)"
   ]
  },
  {
   "cell_type": "markdown",
   "metadata": {},
   "source": [
    "#### Test Major diagonal ( ╲ )"
   ]
  },
  {
   "cell_type": "code",
   "execution_count": 97,
   "metadata": {},
   "outputs": [
    {
     "name": "stdout",
     "output_type": "stream",
     "text": [
      "[[1 0 0 0 0 0 0 0]\n",
      " [0 1 0 0 0 0 0 0]\n",
      " [0 0 0 0 0 0 0 0]\n",
      " [0 0 0 0 0 0 0 0]\n",
      " [0 0 0 0 0 0 0 0]\n",
      " [0 0 0 0 0 0 0 0]\n",
      " [0 0 0 0 0 0 0 0]\n",
      " [0 0 0 0 0 0 0 0]]\n"
     ]
    },
    {
     "data": {
      "text/plain": [
       "False"
      ]
     },
     "execution_count": 97,
     "metadata": {},
     "output_type": "execute_result"
    }
   ],
   "source": [
    "board_copy = board.copy()\n",
    "board_copy[0][0] = 1\n",
    "board_copy[1][1] = 1\n",
    "\n",
    "print(board_copy)\n",
    "is_board_safe(board_copy)"
   ]
  },
  {
   "cell_type": "markdown",
   "metadata": {},
   "source": [
    "#### Test Minor diagonal ( ╱ )"
   ]
  },
  {
   "cell_type": "code",
   "execution_count": 96,
   "metadata": {
    "scrolled": true
   },
   "outputs": [
    {
     "name": "stdout",
     "output_type": "stream",
     "text": [
      "[[0 1 0 0 0 0 0 0]\n",
      " [1 0 0 0 0 0 0 0]\n",
      " [0 0 0 0 0 0 0 0]\n",
      " [0 0 0 0 0 0 0 0]\n",
      " [0 0 0 0 0 0 0 0]\n",
      " [0 0 0 0 0 0 0 0]\n",
      " [0 0 0 0 0 0 0 0]\n",
      " [0 0 0 0 0 0 0 0]]\n"
     ]
    },
    {
     "data": {
      "text/plain": [
       "False"
      ]
     },
     "execution_count": 96,
     "metadata": {},
     "output_type": "execute_result"
    }
   ],
   "source": [
    "board_copy = board.copy()\n",
    "board_copy[1][0] = 1\n",
    "board_copy[0][1] = 1\n",
    "\n",
    "print(board_copy)\n",
    "is_board_safe(board_copy)"
   ]
  },
  {
   "cell_type": "code",
   "execution_count": 168,
   "metadata": {},
   "outputs": [],
   "source": [
    "### use recursive algorithm to (dynamic programming)\n",
    "def place_queen(board,column):\n",
    "    if column>=N :\n",
    "        return True\n",
    "    \n",
    "    for row in range(N):\n",
    "        board[row][column] = 1\n",
    "        \n",
    "        safe = False\n",
    "        \n",
    "        if is_board_safe(board):\n",
    "            safe = place_queen(board,column+1) ## if current \"q\" is safe place next \"q\" recursively\n",
    "            \n",
    "        if not safe :\n",
    "            board[row][column] = 0\n",
    "            \n",
    "        else:\n",
    "            break                              ## we place all \"q\" successfully\n",
    "    return safe"
   ]
  },
  {
   "cell_type": "code",
   "execution_count": 101,
   "metadata": {
    "scrolled": true
   },
   "outputs": [
    {
     "data": {
      "text/plain": [
       "{'1001000000000000001000000000000000000000001001000000000000000000': False,\n",
       " '1000000000000000001000001000000000000000001001000000000000000000': False,\n",
       " '1001000000000000000000000000000000000000000000000000000000000000': False,\n",
       " '1000000000000000000000001000000000000000000000000000000000000000': False,\n",
       " '0000000100000000000000000000000000000000001000000000000000000000': False,\n",
       " '0000000000000000000000000000000000000000001000000000000010000000': False,\n",
       " '1000000000000000000000000001000000000000000000000000000000000000': False,\n",
       " '1000000000000000001000000000000000000000000000000000000000000000': False,\n",
       " '0100000010000000000000000000000000000000000000000000000000000000': False,\n",
       " '1000000001000000000000000000000000000000000000000000000000000000': False}"
      ]
     },
     "execution_count": 101,
     "metadata": {},
     "output_type": "execute_result"
    }
   ],
   "source": [
    "board_state_memory"
   ]
  },
  {
   "cell_type": "markdown",
   "metadata": {},
   "source": [
    "## Run alg"
   ]
  },
  {
   "cell_type": "code",
   "execution_count": 178,
   "metadata": {},
   "outputs": [
    {
     "name": "stdout",
     "output_type": "stream",
     "text": [
      "True\n"
     ]
    },
    {
     "data": {
      "text/plain": [
       "array([[1, 0, 0, 0, 0, 0, 0, 0],\n",
       "       [0, 0, 0, 0, 0, 0, 1, 0],\n",
       "       [0, 0, 0, 0, 1, 0, 0, 0],\n",
       "       [0, 0, 0, 0, 0, 0, 0, 1],\n",
       "       [0, 1, 0, 0, 0, 0, 0, 0],\n",
       "       [0, 0, 0, 1, 0, 0, 0, 0],\n",
       "       [0, 0, 0, 0, 0, 1, 0, 0],\n",
       "       [0, 0, 1, 0, 0, 0, 0, 0]], dtype=int8)"
      ]
     },
     "execution_count": 178,
     "metadata": {},
     "output_type": "execute_result"
    }
   ],
   "source": [
    "board  = np.zeros((N,N),np.int8)\n",
    "placed = place_queen(board,0)\n",
    "print(placed)\n",
    "board"
   ]
  },
  {
   "cell_type": "markdown",
   "metadata": {},
   "source": [
    "## check cache"
   ]
  },
  {
   "cell_type": "code",
   "execution_count": 1,
   "metadata": {},
   "outputs": [],
   "source": [
    "board_state_memory"
   ]
  },
  {
   "cell_type": "markdown",
   "metadata": {},
   "source": [
    "## Run alg again"
   ]
  },
  {
   "cell_type": "code",
   "execution_count": 2,
   "metadata": {},
   "outputs": [],
   "source": [
    "board  = np.zeros((N,N),np.int8)\n",
    "placed = place_queen(board,0)\n",
    "print(placed)\n",
    "board"
   ]
  }
 ],
 "metadata": {
  "kernelspec": {
   "display_name": "Python 3",
   "language": "python",
   "name": "python3"
  },
  "language_info": {
   "codemirror_mode": {
    "name": "ipython",
    "version": 3
   },
   "file_extension": ".py",
   "mimetype": "text/x-python",
   "name": "python",
   "nbconvert_exporter": "python",
   "pygments_lexer": "ipython3",
   "version": "3.8.5"
  }
 },
 "nbformat": 4,
 "nbformat_minor": 4
}
